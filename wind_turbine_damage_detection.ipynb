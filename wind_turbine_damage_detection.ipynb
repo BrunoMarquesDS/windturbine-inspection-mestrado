{
  "cells": [
    {
      "cell_type": "markdown",
      "id": "76c889a8",
      "metadata": {},
      "source": [
        "# Wind Turbine Blade Damage Detection with YOLOv8\n",
        "\n",
        "## Introduction\n",
        "This project was developed as a final undergraduate thesis and aims to detect damages on wind turbine blades using the YOLOv8 computer vision model. A custom dataset was created with images of a mini wind turbine, where damages were simulated using stickers. Additionally, data augmentation was performed in external software to increase dataset diversity and improve model robustness.\n",
        "\n",
        "## Objective\n",
        "Train a YOLOv8 model to identify and classify damages on wind turbine blades using an annotated dataset in the YOLO format.\n",
        "\n",
        "## Methodology\n",
        "1. **Data Collection**: Photographs of a mini wind turbine with simulated damages (stickers).\n",
        "2. **Annotation**: Images were annotated in the YOLO format using annotation software.\n",
        "3. **Data Augmentation**: Application of data augmentation techniques (rotations, flips, brightness adjustments, etc.) in external software.\n",
        "4. **Training**: Training the YOLOv8 model with the prepared dataset.\n",
        "5. **Evaluation**: Analysis of the trained model's results on a test set.\n",
        "\n",
        "\n",
        "## Dataset Structure\n",
        "The dataset is organized as follows:\n",
        "- `train/`: Training images and their annotations.\n",
        "- `valid/`: Validation images and their annotations.\n",
        "- `test/`: Test images and their annotations.\n",
        "- `data.yaml`: Configuration file with dataset paths and classes.\n"
      ]
    },
    {
      "cell_type": "markdown",
      "id": "0c6630c0",
      "metadata": {},
      "source": [
        "## Step 1: Import the YOLO Library\n",
        "We will import the `ultralytics` library to use the YOLOv8 model.\n"
      ]
    },
    {
      "cell_type": "code",
      "execution_count": null,
      "id": "08472edf",
      "metadata": {},
      "outputs": [],
      "source": [
        "from ultralytics import YOLO\n"
      ]
    },
    {
      "cell_type": "markdown",
      "id": "a4418d1c",
      "metadata": {},
      "source": [
        "## Step 2: Load the Pre-trained Model\n",
        "We load the pre-trained YOLOv8 model (`yolov8n.pt`) to perform training with our custom dataset.\n"
      ]
    },
    {
      "cell_type": "code",
      "execution_count": null,
      "id": "6242bfb5",
      "metadata": {},
      "outputs": [],
      "source": [
        "model = YOLO(\"yolov8n.pt\")\n"
      ]
    },
    {
      "cell_type": "markdown",
      "id": "86ea3748",
      "metadata": {},
      "source": [
        "## Step 3: Model Configuration and Training\n",
        "We configure the training parameters, such as the dataset path, number of epochs, batch size, optimizer, learning rate, and other hyperparameters. The training will be performed on the CPU, as specified.\n"
      ]
    },
    {
      "cell_type": "code",
      "execution_count": null,
      "id": "8bbdee24",
      "metadata": {},
      "outputs": [],
      "source": [
        "model.train(\n",
        "    data=\"path/data.yaml\",  # Path to the dataset configuration file\n",
        "    epochs=150,  # Number of training epochs (150 to ensure convergence)\n",
        "    batch=16,  # Batch size (16 images per iteration, adjusted for CPU efficiency)\n",
        "    imgsz=640,  # Input image size (640x640 pixels, YOLOv8 standard)\n",
        "    optimizer=\"SGD\",  # SGD optimizer (Stochastic Gradient Descent), generally more stable for YOLO\n",
        "    lr0=0.01,  # Initial learning rate (0.01, a common value for YOLOv8)\n",
        "    warmup_epochs=15,  # Warmup period (15 epochs to gradually adjust the learning rate)\n",
        "    dropout=0.01,  # Dropout rate for regularization (0.01 to prevent overfitting)\n",
        "    workers=4,  # Number of workers for data loading (4 for balanced performance on CPU)\n",
        "    device=\"cpu\",  # Training device (CPU, as no GPU is available)\n",
        ")\n"
      ]
    },
    {
      "cell_type": "markdown",
      "id": "d336092e",
      "metadata": {},
      "source": [
        "## Step 4: Model Evaluation\n",
        "After training, the model is automatically evaluated on the validation set. Results, such as precision, recall, and mAP metrics, are available in the `runs/detect/train/` folder. To evaluate the model on the test set, you can run:\n",
        "\n",
        "```python\n",
        "model.val(data=\"path/data.yaml\", split=\"test\")\n",
        "```\n",
        "\n",
        "## Step 5: Inference\n",
        "To perform inference on new images, you can use the trained model as follows:\n",
        "\n",
        "```python\n",
        "results = model.predict(source=\"path/to/image.jpg\", save=True)\n",
        "```\n",
        "\n",
        "The results will be saved in the `runs/detect/predict/` folder.\n",
        "\n",
        "## Conclusion\n",
        "In this notebook, we trained the YOLOv8 model for detecting damages on wind turbine blades. The model was trained with a custom dataset, and the results can be analyzed in the folders generated by the training process. To improve results, consider adjusting hyperparameters, expanding the dataset with more images and annotations, or using another version of YOLOv8 beyond the nano model.\n"
      ]
    }
  ],
  "metadata": {
    "kernelspec": {
      "display_name": "Python 3",
      "language": "python",
      "name": "python3"
    },
    "language_info": {
      "codemirror_mode": {
        "name": "ipython",
        "version": 3
      },
      "file_extension": ".py",
      "mimetype": "text/x-python",
      "name": "python",
      "nbconvert_exporter": "python",
      "pygments_lexer": "ipython3",
      "version": "3.11.9"
    }
  },
  "nbformat": 4,
  "nbformat_minor": 5
}
